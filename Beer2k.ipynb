{
 "cells": [
  {
   "cell_type": "code",
   "execution_count": 1,
   "metadata": {},
   "outputs": [],
   "source": [
    "%matplotlib inline\n",
    "import matplotlib.pyplot as plt\n",
    "import pandas as pd\n",
    "import xmltodict\n",
    "import xml.etree.ElementTree as ET\n",
    "import csv\n",
    "import requests\n",
    "import io\n",
    "import numpy as np\n",
    "\n",
    "pd.options.display.max_rows = 12"
   ]
  },
  {
   "cell_type": "code",
   "execution_count": 2,
   "metadata": {},
   "outputs": [],
   "source": [
    "xml_file = r'/Users/cody/Python/Beer/Beer2k_fixed.xml'\n",
    "with open(xml_file) as fd:\n",
    "    doc = xmltodict.parse(fd.read())"
   ]
  },
  {
   "cell_type": "code",
   "execution_count": 3,
   "metadata": {},
   "outputs": [
    {
     "name": "stdout",
     "output_type": "stream",
     "text": [
      "There are 1 beers in the database\n"
     ]
    },
    {
     "data": {
      "text/plain": [
       "{u'ABV': u'4.7 %',\n",
       " u'ACTUAL_EFFICIENCY': u'72.0 %',\n",
       " u'AGE': u'30.0000000',\n",
       " u'AGE_TEMP': u'18.3333333',\n",
       " u'ASST_BREWER': None,\n",
       " u'BATCH_SIZE': u'23.0000000',\n",
       " u'BOIL_SIZE': u'25.8127168',\n",
       " u'BOIL_TIME': u'60.0000000',\n",
       " u'BREWER': u'Domi',\n",
       " u'CALORIES': u'151.6 kcal/12oz',\n",
       " u'CARBONATION': u'2.3000000',\n",
       " u'CARBONATION_TEMP': u'5.0000000',\n",
       " u'CARBONATION_USED': u'Keg with 10.59 PSI',\n",
       " u'DATE': u'07 Apr 2014',\n",
       " u'DISPLAY_AGE_TEMP': u'18.3 C',\n",
       " u'DISPLAY_BATCH_SIZE': u'6.08 gal',\n",
       " u'DISPLAY_BOIL_SIZE': u'6.82 gal',\n",
       " u'DISPLAY_CARB_TEMP': u'5.0 C',\n",
       " u'DISPLAY_FG': u'1.010 SG',\n",
       " u'DISPLAY_OG': u'1.046 SG',\n",
       " u'DISPLAY_PRIMARY_TEMP': u'19.4 C',\n",
       " u'DISPLAY_SECONDARY_TEMP': u'19.4 C',\n",
       " u'DISPLAY_TERTIARY_TEMP': u'18.3 C',\n",
       " u'EFFICIENCY': u'72.0000000',\n",
       " u'EQUIPMENT': OrderedDict([(u'NAME', u'Tout Grain !'),\n",
       "              (u'VERSION', u'1'),\n",
       "              (u'BOIL_SIZE', u'25.8127168'),\n",
       "              (u'BATCH_SIZE', u'23.0000000'),\n",
       "              (u'TUN_VOLUME', u'30.0000000'),\n",
       "              (u'TUN_WEIGHT', u'4.5359200'),\n",
       "              (u'TUN_SPECIFIC_HEAT', u'0.3000000'),\n",
       "              (u'TOP_UP_WATER', u'0.0000000'),\n",
       "              (u'TRUB_CHILLER_LOSS', u'0.0000000'),\n",
       "              (u'EVAP_RATE', u'7.3324974'),\n",
       "              (u'BOIL_TIME', u'60.0000000'),\n",
       "              (u'CALC_BOIL_VOLUME', u'TRUE'),\n",
       "              (u'LAUTER_DEADSPACE', u'1.0000000'),\n",
       "              (u'TOP_UP_KETTLE', u'0.0000000'),\n",
       "              (u'HOP_UTILIZATION', u'100.0000000'),\n",
       "              (u'COOLING_LOSS_PCT', u'4.0000000'),\n",
       "              (u'NOTES', None),\n",
       "              (u'DISPLAY_BOIL_SIZE', u'6.82 gal'),\n",
       "              (u'DISPLAY_BATCH_SIZE', u'6.08 gal'),\n",
       "              (u'DISPLAY_TUN_VOLUME', u'7.93 gal'),\n",
       "              (u'DISPLAY_TUN_WEIGHT', u'10 lbs'),\n",
       "              (u'DISPLAY_TOP_UP_WATER', u'0.00 gal'),\n",
       "              (u'DISPLAY_TRUB_CHILLER_LOSS', u'0.00 gal'),\n",
       "              (u'DISPLAY_LAUTER_DEADSPACE', u'0.26 gal'),\n",
       "              (u'DISPLAY_TOP_UP_KETTLE', u'0.00 gal')]),\n",
       " u'EST_ABV': u'5.4 %',\n",
       " u'EST_COLOR': u'15.9 SRM',\n",
       " u'EST_FG': u'1.005 SG',\n",
       " u'EST_OG': u'1.046 SG',\n",
       " u'FERMENTABLES': OrderedDict([(u'FERMENTABLE',\n",
       "               [OrderedDict([(u'NAME', u'Pale Malt (2 Row) US'),\n",
       "                             (u'VERSION', u'1'),\n",
       "                             (u'TYPE', u'Grain'),\n",
       "                             (u'AMOUNT', u'3.4999977'),\n",
       "                             (u'YIELD', u'79.0000000'),\n",
       "                             (u'COLOR', u'2.0000000'),\n",
       "                             (u'ADD_AFTER_BOIL', u'FALSE'),\n",
       "                             (u'ORIGIN', u'US'),\n",
       "                             (u'SUPPLIER', None),\n",
       "                             (u'NOTES', u'Base malt for all beer styles'),\n",
       "                             (u'COARSE_FINE_DIFF', u'1.5000000'),\n",
       "                             (u'MOISTURE', u'4.0000000'),\n",
       "                             (u'DIASTATIC_POWER', u'140.0000000'),\n",
       "                             (u'PROTEIN', u'12.3000000'),\n",
       "                             (u'MAX_IN_BATCH', u'100.0000000'),\n",
       "                             (u'RECOMMEND_MASH', u'TRUE'),\n",
       "                             (u'IBU_GAL_PER_LB', u'0.0000000'),\n",
       "                             (u'DISPLAY_AMOUNT', u'7 lbs 11.5 oz'),\n",
       "                             (u'INVENTORY', u'0.0 oz'),\n",
       "                             (u'POTENTIAL', u'1.0363400'),\n",
       "                             (u'DISPLAY_COLOR', u'2.0 SRM'),\n",
       "                             (u'EXTRACT_SUBSTITUTE', u'Pale Liquid Extract')]),\n",
       "                OrderedDict([(u'NAME', u'Caramel/Crystal Malt - 60L'),\n",
       "                             (u'VERSION', u'1'),\n",
       "                             (u'TYPE', u'Grain'),\n",
       "                             (u'AMOUNT', u'0.6999995'),\n",
       "                             (u'YIELD', u'74.0000000'),\n",
       "                             (u'COLOR', u'60.0000000'),\n",
       "                             (u'ADD_AFTER_BOIL', u'FALSE'),\n",
       "                             (u'ORIGIN', u'US'),\n",
       "                             (u'SUPPLIER', None),\n",
       "                             (u'NOTES',\n",
       "                              u'Adds body, color and improves head retention.\\nAlso called \"Crystal\" malt.'),\n",
       "                             (u'COARSE_FINE_DIFF', u'1.5000000'),\n",
       "                             (u'MOISTURE', u'4.0000000'),\n",
       "                             (u'DIASTATIC_POWER', u'0.0000000'),\n",
       "                             (u'PROTEIN', u'13.2000000'),\n",
       "                             (u'MAX_IN_BATCH', u'20.0000000'),\n",
       "                             (u'RECOMMEND_MASH', u'FALSE'),\n",
       "                             (u'IBU_GAL_PER_LB', u'0.0000000'),\n",
       "                             (u'DISPLAY_AMOUNT', u'1 lbs 8.7 oz'),\n",
       "                             (u'INVENTORY', u'0.0 oz'),\n",
       "                             (u'POTENTIAL', u'1.0340400'),\n",
       "                             (u'DISPLAY_COLOR', u'60.0 SRM'),\n",
       "                             (u'EXTRACT_SUBSTITUTE', None)]),\n",
       "                OrderedDict([(u'NAME', u'Candi Sugar, Amber'),\n",
       "                             (u'VERSION', u'1'),\n",
       "                             (u'TYPE', u'Sugar'),\n",
       "                             (u'AMOUNT', u'0.4999997'),\n",
       "                             (u'YIELD', u'78.3000000'),\n",
       "                             (u'COLOR', u'75.0000000'),\n",
       "                             (u'ADD_AFTER_BOIL', u'FALSE'),\n",
       "                             (u'ORIGIN', u'Belgium'),\n",
       "                             (u'SUPPLIER', None),\n",
       "                             (u'NOTES',\n",
       "                              u'Crystalized Candi Sugar (Sucrose) used in many Belgian Tripels, Dubbels, and holiday ales.  Adds head retention and sweet aroma to beer.  Darker variants also add color.'),\n",
       "                             (u'COARSE_FINE_DIFF', u'1.5000000'),\n",
       "                             (u'MOISTURE', u'4.0000000'),\n",
       "                             (u'DIASTATIC_POWER', u'120.0000000'),\n",
       "                             (u'PROTEIN', u'11.7000000'),\n",
       "                             (u'MAX_IN_BATCH', u'20.0000000'),\n",
       "                             (u'RECOMMEND_MASH', u'FALSE'),\n",
       "                             (u'IBU_GAL_PER_LB', u'0.0000000'),\n",
       "                             (u'DISPLAY_AMOUNT', u'1 lbs 1.6 oz'),\n",
       "                             (u'INVENTORY', u'0.0 oz'),\n",
       "                             (u'POTENTIAL', u'1.0360180'),\n",
       "                             (u'DISPLAY_COLOR', u'75.0 SRM'),\n",
       "                             (u'EXTRACT_SUBSTITUTE', None)])])]),\n",
       " u'FERMENTATION_STAGES': u'2',\n",
       " u'FG': u'1.0100000',\n",
       " u'FORCED_CARBONATION': u'FALSE',\n",
       " 'HOPS': u'Target, Sterling',\n",
       " u'IBU': u'33.8 IBUs',\n",
       " u'IBU_METHOD': u'Tinseth',\n",
       " u'KEG_PRIMING_FACTOR': u'0.5000000',\n",
       " u'MASH': OrderedDict([(u'NAME', u'Single Infusion, Light Body, Batch Sparge'),\n",
       "              (u'VERSION', u'1'),\n",
       "              (u'GRAIN_TEMP', u'22.2222222'),\n",
       "              (u'TUN_TEMP', u'22.2222222'),\n",
       "              (u'SPARGE_TEMP', u'75.5555556'),\n",
       "              (u'PH', u'5.4000000'),\n",
       "              (u'TUN_WEIGHT', u'160.0000000'),\n",
       "              (u'TUN_SPECIFIC_HEAT', u'0.3000000'),\n",
       "              (u'EQUIP_ADJUST', u'FALSE'),\n",
       "              (u'NOTES',\n",
       "               u'Simple single infusion mash for use with most modern well modified grains (about 95% of the time).'),\n",
       "              (u'DISPLAY_GRAIN_TEMP', u'22.2 C'),\n",
       "              (u'DISPLAY_TUN_TEMP', u'22.2 C'),\n",
       "              (u'DISPLAY_SPARGE_TEMP', u'75.6 C'),\n",
       "              (u'DISPLAY_TUN_WEIGHT', u'10 lbs'),\n",
       "              (u'MASH_STEPS',\n",
       "               OrderedDict([(u'MASH_STEP',\n",
       "                             OrderedDict([(u'NAME', u'Mash In'),\n",
       "                                          (u'VERSION', u'1'),\n",
       "                                          (u'TYPE', u'Infusion'),\n",
       "                                          (u'INFUSE_AMOUNT', u'10.9534083'),\n",
       "                                          (u'STEP_TIME', u'75.0000000'),\n",
       "                                          (u'STEP_TEMP', u'64.4444444'),\n",
       "                                          (u'RAMP_TIME', u'2.0000000'),\n",
       "                                          (u'END_TEMP', u'64.4444444'),\n",
       "                                          (u'DESCRIPTION',\n",
       "                                           u'Add 12.63 qt of water at 70.1 C'),\n",
       "                                          (u'WATER_GRAIN_RATIO',\n",
       "                                           u'1.250 qt/lb'),\n",
       "                                          (u'DECOCTION_AMT', u'0.00 qt'),\n",
       "                                          (u'INFUSE_TEMP', u'70.1 C'),\n",
       "                                          (u'DISPLAY_STEP_TEMP', u'64.4 C'),\n",
       "                                          (u'DISPLAY_INFUSE_AMT',\n",
       "                                           u'12.63 qt')]))]))]),\n",
       " u'NAME': u'#11 Caramel Amber Ale',\n",
       " u'NOTES': None,\n",
       " u'OG': u'1.0460000',\n",
       " u'PRIMARY_AGE': u'4.0000000',\n",
       " u'PRIMARY_TEMP': u'19.4444444',\n",
       " u'PRIMING_SUGAR_EQUIV': u'1.0000000',\n",
       " u'PRIMING_SUGAR_NAME': u'Forced Carbonation',\n",
       " u'SECONDARY_AGE': u'10.0000000',\n",
       " u'SECONDARY_TEMP': u'19.4444444',\n",
       " u'STYLE': OrderedDict([(u'NAME', u'American Amber Ale'),\n",
       "              (u'VERSION', u'1'),\n",
       "              (u'CATEGORY', u'American Ale'),\n",
       "              (u'CATEGORY_NUMBER', u'10'),\n",
       "              (u'STYLE_LETTER', u'B'),\n",
       "              (u'STYLE_GUIDE', u'BJCP 2008'),\n",
       "              (u'TYPE', u'Ale'),\n",
       "              (u'OG_MIN', u'1.0450000'),\n",
       "              (u'OG_MAX', u'1.0600000'),\n",
       "              (u'FG_MIN', u'1.0100000'),\n",
       "              (u'FG_MAX', u'1.0150000'),\n",
       "              (u'IBU_MIN', u'25.0000000'),\n",
       "              (u'IBU_MAX', u'40.0000000'),\n",
       "              (u'COLOR_MIN', u'10.0000000'),\n",
       "              (u'COLOR_MAX', u'17.0000000'),\n",
       "              (u'CARB_MIN', u'2.3000000'),\n",
       "              (u'CARB_MAX', u'2.8000000'),\n",
       "              (u'ABV_MAX', u'6.2000000'),\n",
       "              (u'ABV_MIN', u'4.5000000'),\n",
       "              (u'NOTES',\n",
       "               u'Like an American pale ale with more body, more caramel richness, and a balance more towards malt than hops (although hop rates can be significant). Known simply as Red Ales in some regions, these beers were popularized in the hop-loving Northern California and the Pacific Northwest areas before spreading nationwide. Can overlap in color with American pale ales. However, American amber ales differ from American pale ales not only by being usually darker in color, but also by having more caramel flavor, more body, and usually being balanced more evenly between malt and bitterness. Should not have a strong chocolate or roast character that might suggest an American brown ale (although small amounts are OK).'),\n",
       "              (u'PROFILE',\n",
       "               u'Aroma: Low to moderate hop aroma from dry hopping or late kettle additions of American hop varieties. A citrusy hop character is common, but not required. Moderately low to moderately high maltiness balances and sometimes masks the hop presentation, and usually shows a moderate caramel character. Esters vary from moderate to none. No diacetyl.\\nAppearance: Amber to coppery brown in color. Moderately large off-white head with good retention. Generally quite clear, although dry-hopped versions may be slightly hazy.\\nFlavor: Moderate to high hop flavor from American hop varieties, which often but not always has a citrusy quality. Malt flavors are moderate to strong, and usually show an initial malty sweetness followed by a moderate caramel flavor (and sometimes other character malts in lesser amounts). Malt and hop bitterness are usually balanced and mutually supportive. Fruity esters can be moderate to none. Caramel sweetness and hop flavor/bitterness can linger somewhat into the medium to full finish. No diacetyl.\\nMouthfeel: Medium to medium-full body. Carbonation moderate to high. Overall smooth finish without astringency often associated with high hopping rates. Stronger versions may have a slight alcohol warmth.'),\n",
       "              (u'INGREDIENTS',\n",
       "               u'Pale ale malt, typically American two-row. Medium to dark crystal malts. May contain specialty grains which add character and uniqueness. American hops, often with citrusy flavors, are common but others may also be used. Water can vary in sulfate & carbonate content.'),\n",
       "              (u'EXAMPLES',\n",
       "               u\"North Coast Red Seal Ale, Tr\\xf6egs HopBack Amber Ale, Deschutes Cinder Cone Red, Pyramid Broken Rake, St. Rogue Red Ale, Anderson Valley Boont Amber Ale, Lagunitas Censored Ale, Avery Redpoint Ale, McNeill's Firehouse Amber Ale, Mendocino Red Tail Ale, Bell's Amber\"),\n",
       "              (u'DISPLAY_OG_MIN', u'1.045 SG'),\n",
       "              (u'DISPLAY_OG_MAX', u'1.060 SG'),\n",
       "              (u'DISPLAY_FG_MIN', u'1.010 SG'),\n",
       "              (u'DISPLAY_FG_MAX', u'1.015 SG'),\n",
       "              (u'DISPLAY_COLOR_MIN', u'10.0 SRM'),\n",
       "              (u'DISPLAY_COLOR_MAX', u'17.0 SRM'),\n",
       "              (u'OG_RANGE', u'1.045-1.060 SG'),\n",
       "              (u'FG_RANGE', u'1.010-1.015 SG'),\n",
       "              (u'IBU_RANGE', u'25.0-40.0 IBUs'),\n",
       "              (u'CARB_RANGE', u'2.30-2.80 Vols'),\n",
       "              (u'COLOR_RANGE', u'10.0-17.0 SRM'),\n",
       "              (u'ABV_RANGE', u'4.50-6.20 %')]),\n",
       " u'TASTE_NOTES': None,\n",
       " u'TASTE_RATING': u'30.0000000',\n",
       " u'TERTIARY_AGE': u'7.0000000',\n",
       " u'TYPE': u'All Grain',\n",
       " u'VERSION': u'1',\n",
       " u'YEASTS': OrderedDict([(u'YEAST',\n",
       "               OrderedDict([(u'NAME', u'Safale American'),\n",
       "                            (u'VERSION', u'1'),\n",
       "                            (u'TYPE', u'Ale'),\n",
       "                            (u'FORM', u'Dry'),\n",
       "                            (u'AMOUNT', u'0.0502753'),\n",
       "                            (u'AMOUNT_IS_WEIGHT', u'FALSE'),\n",
       "                            (u'LABORATORY', u'DCL/Fermentis'),\n",
       "                            (u'PRODUCT_ID', u'US-05'),\n",
       "                            (u'MIN_TEMPERATURE', u'15.0000000'),\n",
       "                            (u'MAX_TEMPERATURE', u'23.8888889'),\n",
       "                            (u'FLOCCULATION', u'Medium'),\n",
       "                            (u'ATTENUATION', u'76.5000000'),\n",
       "                            (u'NOTES',\n",
       "                             u'American ale yeast that produces well balanced beers with low diacetyl and a very clean, crisp end palate.'),\n",
       "                            (u'BEST_FOR',\n",
       "                             u'American ale, other clean finish ales'),\n",
       "                            (u'MAX_REUSE', u'5'),\n",
       "                            (u'TIMES_CULTURED', u'0'),\n",
       "                            (u'ADD_TO_SECONDARY', u'FALSE'),\n",
       "                            (u'DISPLAY_AMOUNT', u'50.28 ml'),\n",
       "                            (u'DISP_MIN_TEMP', u'15.0 C'),\n",
       "                            (u'DISP_MAX_TEMP', u'23.9 C'),\n",
       "                            (u'INVENTORY', u'0.0 pkg'),\n",
       "                            (u'CULTURE_DATE', u'06 Mar 2011')]))])}"
      ]
     },
     "execution_count": 3,
     "metadata": {},
     "output_type": "execute_result"
    }
   ],
   "source": [
    "recipe_dict = {'Name': '',\n",
    "               'Version':'',\n",
    "               'Type': '',\n",
    "               'Brewer': ''}\n",
    "recipe_dict = {}\n",
    "counter = 0\n",
    "styles = {}\n",
    "\n",
    "for recipe in doc['RECIPES']['RECIPE']:\n",
    "    counter += 1\n",
    "    \n",
    "    for key in recipe.keys():\n",
    "        if key == 'HOPS':\n",
    "            hop_names = ''\n",
    "            for h_key in recipe[key]['HOP']:\n",
    "                hop_names = hop_names + ', ' + h_key['NAME'] if hop_names else h_key['NAME']\n",
    "            recipe_dict['HOPS'] = hop_names\n",
    "                \n",
    "        else:\n",
    "            recipe_dict[key] = recipe[key]\n",
    "    break\n",
    "print('There are %d beers in the database'%counter)\n",
    "recipe_dict"
   ]
  },
  {
   "cell_type": "code",
   "execution_count": 4,
   "metadata": {},
   "outputs": [],
   "source": [
    "counter = 0\n",
    "styles = {}\n",
    "for recipe in doc['RECIPES']['RECIPE']:\n",
    "    style = recipe['STYLE']['NAME']\n",
    "    try:\n",
    "        styles[style] += 1\n",
    "    except KeyError:\n",
    "        styles[style] = 1\n",
    "\n",
    "styles_df = pd.DataFrame(data=styles.values(), index=styles.keys(), columns=['count'])\n",
    "styles_df.sort_values(inplace=True, by=['count'], ascending=False)\n"
   ]
  },
  {
   "cell_type": "code",
   "execution_count": 5,
   "metadata": {},
   "outputs": [
    {
     "name": "stderr",
     "output_type": "stream",
     "text": [
      "/Users/cody/Library/Enthought/Canopy/edm/envs/User/lib/python2.7/site-packages/ipykernel/__main__.py:1: DeprecationWarning: \n",
      ".ix is deprecated. Please use\n",
      ".loc for label based indexing or\n",
      ".iloc for positional indexing\n",
      "\n",
      "See the documentation here:\n",
      "http://pandas.pydata.org/pandas-docs/stable/indexing.html#ix-indexer-is-deprecated\n",
      "  if __name__ == '__main__':\n"
     ]
    },
    {
     "data": {
      "text/plain": [
       "<matplotlib.axes._subplots.AxesSubplot at 0x104871510>"
      ]
     },
     "execution_count": 5,
     "metadata": {},
     "output_type": "execute_result"
    },
    {
     "data": {
      "image/png": "[encoded data removed]",
      "text/plain": [
       "<matplotlib.figure.Figure at 0x12b11ebd0>"
      ]
     },
     "metadata": {},
     "output_type": "display_data"
    }
   ],
   "source": [
    "styles_df.ix[:30].plot(kind='bar', figsize=(18, 5), title='Style Popularity by Count', legend=False)"
   ]
  },
  {
   "cell_type": "code",
   "execution_count": 6,
   "metadata": {},
   "outputs": [],
   "source": [
    "recipe_df = pd.DataFrame(doc['RECIPES']['RECIPE'])"
   ]
  },
  {
   "cell_type": "code",
   "execution_count": 7,
   "metadata": {},
   "outputs": [
    {
     "data": {
      "text/html": [
       "<div>\n",
       "<style>\n",
       "    .dataframe thead tr:only-child th {\n",
       "        text-align: right;\n",
       "    }\n",
       "\n",
       "    .dataframe thead th {\n",
       "        text-align: left;\n",
       "    }\n",
       "\n",
       "    .dataframe tbody tr th {\n",
       "        vertical-align: top;\n",
       "    }\n",
       "</style>\n",
       "<table border=\"1\" class=\"dataframe\">\n",
       "  <thead>\n",
       "    <tr style=\"text-align: right;\">\n",
       "      <th></th>\n",
       "      <th>NAME</th>\n",
       "      <th>VERSION</th>\n",
       "      <th>TYPE</th>\n",
       "      <th>BREWER</th>\n",
       "      <th>ASST_BREWER</th>\n",
       "      <th>BATCH_SIZE</th>\n",
       "      <th>BOIL_SIZE</th>\n",
       "      <th>BOIL_TIME</th>\n",
       "      <th>EFFICIENCY</th>\n",
       "      <th>HOPS</th>\n",
       "      <th>...</th>\n",
       "      <th>DISPLAY_BATCH_SIZE</th>\n",
       "      <th>DISPLAY_BOIL_SIZE</th>\n",
       "      <th>DISPLAY_OG</th>\n",
       "      <th>DISPLAY_FG</th>\n",
       "      <th>DISPLAY_PRIMARY_TEMP</th>\n",
       "      <th>DISPLAY_SECONDARY_TEMP</th>\n",
       "      <th>DISPLAY_TERTIARY_TEMP</th>\n",
       "      <th>DISPLAY_AGE_TEMP</th>\n",
       "      <th>MISCS</th>\n",
       "      <th>WATERS</th>\n",
       "    </tr>\n",
       "  </thead>\n",
       "  <tbody>\n",
       "    <tr>\n",
       "      <th>0</th>\n",
       "      <td>#11 Caramel Amber Ale</td>\n",
       "      <td>1</td>\n",
       "      <td>All Grain</td>\n",
       "      <td>Domi</td>\n",
       "      <td>None</td>\n",
       "      <td>23.0000000</td>\n",
       "      <td>25.8127168</td>\n",
       "      <td>60.0000000</td>\n",
       "      <td>72.0000000</td>\n",
       "      <td>{u'HOP': [{u'NAME': u'Target', u'VERSION': u'1...</td>\n",
       "      <td>...</td>\n",
       "      <td>6.08 gal</td>\n",
       "      <td>6.82 gal</td>\n",
       "      <td>1.046 SG</td>\n",
       "      <td>1.010 SG</td>\n",
       "      <td>19.4 C</td>\n",
       "      <td>19.4 C</td>\n",
       "      <td>18.3 C</td>\n",
       "      <td>18.3 C</td>\n",
       "      <td>NaN</td>\n",
       "      <td>NaN</td>\n",
       "    </tr>\n",
       "    <tr>\n",
       "      <th>1</th>\n",
       "      <td>#11 Caramel Amber Ale</td>\n",
       "      <td>1</td>\n",
       "      <td>All Grain</td>\n",
       "      <td>Domi</td>\n",
       "      <td>None</td>\n",
       "      <td>23.0000000</td>\n",
       "      <td>25.8127168</td>\n",
       "      <td>60.0000000</td>\n",
       "      <td>72.0000000</td>\n",
       "      <td>{u'HOP': [{u'NAME': u'Target', u'VERSION': u'1...</td>\n",
       "      <td>...</td>\n",
       "      <td>6.08 gal</td>\n",
       "      <td>6.82 gal</td>\n",
       "      <td>1.046 SG</td>\n",
       "      <td>1.010 SG</td>\n",
       "      <td>19.4 C</td>\n",
       "      <td>19.4 C</td>\n",
       "      <td>18.3 C</td>\n",
       "      <td>18.3 C</td>\n",
       "      <td>NaN</td>\n",
       "      <td>NaN</td>\n",
       "    </tr>\n",
       "  </tbody>\n",
       "</table>\n",
       "<p>2 rows × 56 columns</p>\n",
       "</div>"
      ],
      "text/plain": [
       "                    NAME VERSION       TYPE BREWER ASST_BREWER  BATCH_SIZE  \\\n",
       "0  #11 Caramel Amber Ale       1  All Grain   Domi        None  23.0000000   \n",
       "1  #11 Caramel Amber Ale       1  All Grain   Domi        None  23.0000000   \n",
       "\n",
       "    BOIL_SIZE   BOIL_TIME  EFFICIENCY  \\\n",
       "0  25.8127168  60.0000000  72.0000000   \n",
       "1  25.8127168  60.0000000  72.0000000   \n",
       "\n",
       "                                                HOPS  ...    \\\n",
       "0  {u'HOP': [{u'NAME': u'Target', u'VERSION': u'1...  ...     \n",
       "1  {u'HOP': [{u'NAME': u'Target', u'VERSION': u'1...  ...     \n",
       "\n",
       "  DISPLAY_BATCH_SIZE DISPLAY_BOIL_SIZE DISPLAY_OG DISPLAY_FG  \\\n",
       "0           6.08 gal          6.82 gal   1.046 SG   1.010 SG   \n",
       "1           6.08 gal          6.82 gal   1.046 SG   1.010 SG   \n",
       "\n",
       "  DISPLAY_PRIMARY_TEMP DISPLAY_SECONDARY_TEMP DISPLAY_TERTIARY_TEMP  \\\n",
       "0               19.4 C                 19.4 C                18.3 C   \n",
       "1               19.4 C                 19.4 C                18.3 C   \n",
       "\n",
       "  DISPLAY_AGE_TEMP MISCS WATERS  \n",
       "0           18.3 C   NaN    NaN  \n",
       "1           18.3 C   NaN    NaN  \n",
       "\n",
       "[2 rows x 56 columns]"
      ]
     },
     "execution_count": 7,
     "metadata": {},
     "output_type": "execute_result"
    }
   ],
   "source": [
    "recipe_df.head(2)"
   ]
  },
  {
   "cell_type": "code",
   "execution_count": 8,
   "metadata": {},
   "outputs": [
    {
     "data": {
      "text/plain": [
       "0       {u'HOP': [{u'NAME': u'Target', u'VERSION': u'1...\n",
       "1       {u'HOP': [{u'NAME': u'Target', u'VERSION': u'1...\n",
       "2       {u'HOP': [{u'NAME': u'Target', u'VERSION': u'1...\n",
       "3       {u'HOP': [{u'NAME': u'Cascade', u'VERSION': u'...\n",
       "4       {u'HOP': [{u'NAME': u'Cascade', u'VERSION': u'...\n",
       "5       {u'HOP': [{u'NAME': u'Cascade', u'VERSION': u'...\n",
       "                              ...                        \n",
       "2061    {u'HOP': [{u'NAME': u'Hallertau Blanc', u'VERS...\n",
       "2062    {u'HOP': [{u'NAME': u'US Hallertau Pellets', u...\n",
       "2063    {u'HOP': {u'NAME': u'Sterling', u'VERSION': u'...\n",
       "2064    {u'HOP': {u'NAME': u'Sterling', u'VERSION': u'...\n",
       "2065    {u'HOP': [{u'NAME': u'Bravo', u'VERSION': u'1'...\n",
       "2066    {u'HOP': [{u'NAME': u'Hallertauer', u'VERSION'...\n",
       "Name: HOPS, Length: 2067, dtype: object"
      ]
     },
     "execution_count": 8,
     "metadata": {},
     "output_type": "execute_result"
    }
   ],
   "source": [
    "recipe_df['HOPS']"
   ]
  },
  {
   "cell_type": "code",
   "execution_count": 9,
   "metadata": {},
   "outputs": [],
   "source": [
    "#Doesn't work\n",
    "#recipe_df['HOPS_NAME'] = 0\n",
    "#for i in range(len(recipe_df)):\n",
    "#    recipe_df['HOPS_NAME'][i] = recipe_df['HOPS'][i]['NAME']"
   ]
  },
  {
   "cell_type": "code",
   "execution_count": 10,
   "metadata": {},
   "outputs": [],
   "source": [
    "recipe_df.drop(['HOPS'],axis=1);"
   ]
  },
  {
   "cell_type": "code",
   "execution_count": 11,
   "metadata": {},
   "outputs": [
    {
     "data": {
      "text/plain": [
       "Index([u'NAME', u'VERSION', u'TYPE', u'BREWER', u'ASST_BREWER', u'BATCH_SIZE',\n",
       "       u'BOIL_SIZE', u'BOIL_TIME', u'EFFICIENCY', u'HOPS', u'FERMENTABLES',\n",
       "       u'YEASTS', u'STYLE', u'EQUIPMENT', u'MASH', u'NOTES', u'TASTE_NOTES',\n",
       "       u'TASTE_RATING', u'OG', u'FG', u'CARBONATION', u'FERMENTATION_STAGES',\n",
       "       u'PRIMARY_AGE', u'PRIMARY_TEMP', u'SECONDARY_AGE', u'SECONDARY_TEMP',\n",
       "       u'TERTIARY_AGE', u'AGE', u'AGE_TEMP', u'CARBONATION_USED',\n",
       "       u'FORCED_CARBONATION', u'PRIMING_SUGAR_NAME', u'PRIMING_SUGAR_EQUIV',\n",
       "       u'KEG_PRIMING_FACTOR', u'CARBONATION_TEMP', u'DISPLAY_CARB_TEMP',\n",
       "       u'DATE', u'EST_OG', u'EST_FG', u'EST_COLOR', u'IBU', u'IBU_METHOD',\n",
       "       u'EST_ABV', u'ABV', u'ACTUAL_EFFICIENCY', u'CALORIES',\n",
       "       u'DISPLAY_BATCH_SIZE', u'DISPLAY_BOIL_SIZE', u'DISPLAY_OG',\n",
       "       u'DISPLAY_FG', u'DISPLAY_PRIMARY_TEMP', u'DISPLAY_SECONDARY_TEMP',\n",
       "       u'DISPLAY_TERTIARY_TEMP', u'DISPLAY_AGE_TEMP', u'MISCS', u'WATERS'],\n",
       "      dtype='object')"
      ]
     },
     "execution_count": 11,
     "metadata": {},
     "output_type": "execute_result"
    }
   ],
   "source": [
    "recipe_df.columns"
   ]
  },
  {
   "cell_type": "markdown",
   "metadata": {},
   "source": [
    "Marvel at the genius below"
   ]
  },
  {
   "cell_type": "code",
   "execution_count": 12,
   "metadata": {},
   "outputs": [
    {
     "name": "stderr",
     "output_type": "stream",
     "text": [
      "/Users/cody/Library/Enthought/Canopy/edm/envs/User/lib/python2.7/site-packages/ipykernel/__main__.py:3: SettingWithCopyWarning: \n",
      "A value is trying to be set on a copy of a slice from a DataFrame\n",
      "\n",
      "See the caveats in the documentation: http://pandas.pydata.org/pandas-docs/stable/indexing.html#indexing-view-versus-copy\n",
      "  app.launch_new_instance()\n",
      "/Users/cody/Library/Enthought/Canopy/edm/envs/User/lib/python2.7/site-packages/pandas/core/indexing.py:179: SettingWithCopyWarning: \n",
      "A value is trying to be set on a copy of a slice from a DataFrame\n",
      "\n",
      "See the caveats in the documentation: http://pandas.pydata.org/pandas-docs/stable/indexing.html#indexing-view-versus-copy\n",
      "  self._setitem_with_indexer(indexer, value)\n"
     ]
    }
   ],
   "source": [
    "recipe_df['BEER_STYLE'] = 0\n",
    "for i in range(len(recipe_df)):\n",
    "    recipe_df['BEER_STYLE'][i] = recipe_df['STYLE'][i]['NAME']"
   ]
  },
  {
   "cell_type": "code",
   "execution_count": 13,
   "metadata": {},
   "outputs": [
    {
     "data": {
      "text/plain": [
       "0       American Amber Ale\n",
       "1       American Amber Ale\n",
       "2       American Amber Ale\n",
       "3       American Amber Ale\n",
       "4       American Amber Ale\n",
       "5       American Amber Ale\n",
       "               ...        \n",
       "2061               Witbier\n",
       "2062               Witbier\n",
       "2063               Witbier\n",
       "2064               Witbier\n",
       "2065               Witbier\n",
       "2066               Witbier\n",
       "Name: BEER_STYLE, Length: 2067, dtype: object"
      ]
     },
     "execution_count": 13,
     "metadata": {},
     "output_type": "execute_result"
    }
   ],
   "source": [
    "recipe_df['BEER_STYLE']"
   ]
  },
  {
   "cell_type": "code",
   "execution_count": 14,
   "metadata": {},
   "outputs": [],
   "source": [
    "from sklearn.preprocessing import LabelEncoder"
   ]
  },
  {
   "cell_type": "code",
   "execution_count": 15,
   "metadata": {},
   "outputs": [],
   "source": [
    "le = LabelEncoder()"
   ]
  },
  {
   "cell_type": "code",
   "execution_count": 16,
   "metadata": {},
   "outputs": [],
   "source": [
    "Beer_Style_enc = le.fit_transform(recipe_df['BEER_STYLE'])"
   ]
  },
  {
   "cell_type": "code",
   "execution_count": 17,
   "metadata": {},
   "outputs": [],
   "source": [
    "recipe_df['BEER_STYLE_LE'] = Beer_Style_enc"
   ]
  },
  {
   "cell_type": "code",
   "execution_count": 18,
   "metadata": {},
   "outputs": [
    {
     "data": {
      "text/plain": [
       "(2067, 58)"
      ]
     },
     "execution_count": 18,
     "metadata": {},
     "output_type": "execute_result"
    }
   ],
   "source": [
    "recipe_df.shape"
   ]
  },
  {
   "cell_type": "code",
   "execution_count": 19,
   "metadata": {},
   "outputs": [],
   "source": [
    "test2 = recipe_df.columns[-2:]"
   ]
  },
  {
   "cell_type": "code",
   "execution_count": 20,
   "metadata": {},
   "outputs": [
    {
     "data": {
      "text/plain": [
       "Index([u'BEER_STYLE', u'BEER_STYLE_LE'], dtype='object')"
      ]
     },
     "execution_count": 20,
     "metadata": {},
     "output_type": "execute_result"
    }
   ],
   "source": [
    "test2"
   ]
  },
  {
   "cell_type": "code",
   "execution_count": 21,
   "metadata": {},
   "outputs": [
    {
     "data": {
      "text/html": [
       "<div>\n",
       "<style>\n",
       "    .dataframe thead tr:only-child th {\n",
       "        text-align: right;\n",
       "    }\n",
       "\n",
       "    .dataframe thead th {\n",
       "        text-align: left;\n",
       "    }\n",
       "\n",
       "    .dataframe tbody tr th {\n",
       "        vertical-align: top;\n",
       "    }\n",
       "</style>\n",
       "<table border=\"1\" class=\"dataframe\">\n",
       "  <thead>\n",
       "    <tr style=\"text-align: right;\">\n",
       "      <th></th>\n",
       "      <th>BEER_STYLE</th>\n",
       "      <th>BEER_STYLE_LE</th>\n",
       "    </tr>\n",
       "  </thead>\n",
       "  <tbody>\n",
       "    <tr>\n",
       "      <th>0</th>\n",
       "      <td>American Amber Ale</td>\n",
       "      <td>0</td>\n",
       "    </tr>\n",
       "    <tr>\n",
       "      <th>1</th>\n",
       "      <td>American Amber Ale</td>\n",
       "      <td>0</td>\n",
       "    </tr>\n",
       "    <tr>\n",
       "      <th>2</th>\n",
       "      <td>American Amber Ale</td>\n",
       "      <td>0</td>\n",
       "    </tr>\n",
       "    <tr>\n",
       "      <th>3</th>\n",
       "      <td>American Amber Ale</td>\n",
       "      <td>0</td>\n",
       "    </tr>\n",
       "    <tr>\n",
       "      <th>4</th>\n",
       "      <td>American Amber Ale</td>\n",
       "      <td>0</td>\n",
       "    </tr>\n",
       "    <tr>\n",
       "      <th>5</th>\n",
       "      <td>American Amber Ale</td>\n",
       "      <td>0</td>\n",
       "    </tr>\n",
       "    <tr>\n",
       "      <th>...</th>\n",
       "      <td>...</td>\n",
       "      <td>...</td>\n",
       "    </tr>\n",
       "    <tr>\n",
       "      <th>2061</th>\n",
       "      <td>Witbier</td>\n",
       "      <td>110</td>\n",
       "    </tr>\n",
       "    <tr>\n",
       "      <th>2062</th>\n",
       "      <td>Witbier</td>\n",
       "      <td>110</td>\n",
       "    </tr>\n",
       "    <tr>\n",
       "      <th>2063</th>\n",
       "      <td>Witbier</td>\n",
       "      <td>110</td>\n",
       "    </tr>\n",
       "    <tr>\n",
       "      <th>2064</th>\n",
       "      <td>Witbier</td>\n",
       "      <td>110</td>\n",
       "    </tr>\n",
       "    <tr>\n",
       "      <th>2065</th>\n",
       "      <td>Witbier</td>\n",
       "      <td>110</td>\n",
       "    </tr>\n",
       "    <tr>\n",
       "      <th>2066</th>\n",
       "      <td>Witbier</td>\n",
       "      <td>110</td>\n",
       "    </tr>\n",
       "  </tbody>\n",
       "</table>\n",
       "<p>2067 rows × 2 columns</p>\n",
       "</div>"
      ],
      "text/plain": [
       "              BEER_STYLE  BEER_STYLE_LE\n",
       "0     American Amber Ale              0\n",
       "1     American Amber Ale              0\n",
       "2     American Amber Ale              0\n",
       "3     American Amber Ale              0\n",
       "4     American Amber Ale              0\n",
       "5     American Amber Ale              0\n",
       "...                  ...            ...\n",
       "2061             Witbier            110\n",
       "2062             Witbier            110\n",
       "2063             Witbier            110\n",
       "2064             Witbier            110\n",
       "2065             Witbier            110\n",
       "2066             Witbier            110\n",
       "\n",
       "[2067 rows x 2 columns]"
      ]
     },
     "execution_count": 21,
     "metadata": {},
     "output_type": "execute_result"
    }
   ],
   "source": [
    "recipe_df[test2]"
   ]
  },
  {
   "cell_type": "code",
   "execution_count": 22,
   "metadata": {},
   "outputs": [
    {
     "data": {
      "text/plain": [
       "Index([                  u'NAME',                u'VERSION',\n",
       "                         u'TYPE',                 u'BREWER',\n",
       "                  u'ASST_BREWER',             u'BATCH_SIZE',\n",
       "                    u'BOIL_SIZE',              u'BOIL_TIME',\n",
       "                   u'EFFICIENCY',                   u'HOPS',\n",
       "                 u'FERMENTABLES',                 u'YEASTS',\n",
       "                        u'STYLE',              u'EQUIPMENT',\n",
       "                         u'MASH',                  u'NOTES',\n",
       "                  u'TASTE_NOTES',           u'TASTE_RATING',\n",
       "                           u'OG',                     u'FG',\n",
       "                  u'CARBONATION',    u'FERMENTATION_STAGES',\n",
       "                  u'PRIMARY_AGE',           u'PRIMARY_TEMP',\n",
       "                u'SECONDARY_AGE',         u'SECONDARY_TEMP',\n",
       "                 u'TERTIARY_AGE',                    u'AGE',\n",
       "                     u'AGE_TEMP',       u'CARBONATION_USED',\n",
       "           u'FORCED_CARBONATION',     u'PRIMING_SUGAR_NAME',\n",
       "          u'PRIMING_SUGAR_EQUIV',     u'KEG_PRIMING_FACTOR',\n",
       "             u'CARBONATION_TEMP',      u'DISPLAY_CARB_TEMP',\n",
       "                         u'DATE',                 u'EST_OG',\n",
       "                       u'EST_FG',              u'EST_COLOR',\n",
       "                          u'IBU',             u'IBU_METHOD',\n",
       "                      u'EST_ABV',                    u'ABV',\n",
       "            u'ACTUAL_EFFICIENCY',               u'CALORIES',\n",
       "           u'DISPLAY_BATCH_SIZE',      u'DISPLAY_BOIL_SIZE',\n",
       "                   u'DISPLAY_OG',             u'DISPLAY_FG',\n",
       "         u'DISPLAY_PRIMARY_TEMP', u'DISPLAY_SECONDARY_TEMP',\n",
       "        u'DISPLAY_TERTIARY_TEMP',       u'DISPLAY_AGE_TEMP',\n",
       "                        u'MISCS',                 u'WATERS',\n",
       "                   u'BEER_STYLE',          u'BEER_STYLE_LE'],\n",
       "      dtype='object')"
      ]
     },
     "execution_count": 22,
     "metadata": {},
     "output_type": "execute_result"
    }
   ],
   "source": [
    "recipe_df.columns"
   ]
  },
  {
   "cell_type": "code",
   "execution_count": 23,
   "metadata": {},
   "outputs": [],
   "source": [
    "ABV_enc = le.fit_transform(recipe_df['ABV'])"
   ]
  },
  {
   "cell_type": "code",
   "execution_count": 24,
   "metadata": {},
   "outputs": [],
   "source": [
    "recipe_df['ABV_LE'] = ABV_enc"
   ]
  },
  {
   "cell_type": "code",
   "execution_count": 25,
   "metadata": {},
   "outputs": [],
   "source": [
    "import seaborn as sns"
   ]
  },
  {
   "cell_type": "code",
   "execution_count": 26,
   "metadata": {},
   "outputs": [
    {
     "data": {
      "image/png": "[encoded data removed]",
      "text/plain": [
       "<matplotlib.figure.Figure at 0x13155bb10>"
      ]
     },
     "metadata": {},
     "output_type": "display_data"
    }
   ],
   "source": [
    "#f = sns.distplot(recipe_df['ABV_LE'])\n",
    "sns.kdeplot(recipe_df['ABV_LE'], shade=True);"
   ]
  },
  {
   "cell_type": "code",
   "execution_count": 27,
   "metadata": {},
   "outputs": [],
   "source": [
    "ABV_check = recipe_df['ABV']"
   ]
  },
  {
   "cell_type": "code",
   "execution_count": 28,
   "metadata": {},
   "outputs": [],
   "source": [
    "ABV_check.to_csv('\\Users\\cody\\python\\Beer\\ABV.csv')"
   ]
  },
  {
   "cell_type": "code",
   "execution_count": 29,
   "metadata": {},
   "outputs": [
    {
     "data": {
      "text/plain": [
       "0    4.7 %\n",
       "dtype: object"
      ]
     },
     "execution_count": 29,
     "metadata": {},
     "output_type": "execute_result"
    }
   ],
   "source": [
    "ABV_check.mode()"
   ]
  },
  {
   "cell_type": "code",
   "execution_count": 30,
   "metadata": {},
   "outputs": [
    {
     "data": {
      "text/plain": [
       "<matplotlib.collections.PathCollection at 0x131925150>"
      ]
     },
     "execution_count": 30,
     "metadata": {},
     "output_type": "execute_result"
    },
    {
     "data": {
      "image/png": "[encoded data removed]",
      "text/plain": [
       "<matplotlib.figure.Figure at 0x131826050>"
      ]
     },
     "metadata": {},
     "output_type": "display_data"
    }
   ],
   "source": [
    "f, ax = plt.subplots()\n",
    "plt.scatter(recipe_df['BEER_STYLE_LE'], recipe_df['ABV_LE'])"
   ]
  },
  {
   "cell_type": "code",
   "execution_count": 31,
   "metadata": {},
   "outputs": [
    {
     "data": {
      "text/html": [
       "<div>\n",
       "<style>\n",
       "    .dataframe thead tr:only-child th {\n",
       "        text-align: right;\n",
       "    }\n",
       "\n",
       "    .dataframe thead th {\n",
       "        text-align: left;\n",
       "    }\n",
       "\n",
       "    .dataframe tbody tr th {\n",
       "        vertical-align: top;\n",
       "    }\n",
       "</style>\n",
       "<table border=\"1\" class=\"dataframe\">\n",
       "  <thead>\n",
       "    <tr style=\"text-align: right;\">\n",
       "      <th></th>\n",
       "      <th>ABV</th>\n",
       "      <th>ABV_LE</th>\n",
       "      <th>BEER_STYLE</th>\n",
       "      <th>BEER_STYLE_LE</th>\n",
       "    </tr>\n",
       "  </thead>\n",
       "  <tbody>\n",
       "    <tr>\n",
       "      <th>0</th>\n",
       "      <td>4.7 %</td>\n",
       "      <td>43</td>\n",
       "      <td>American Amber Ale</td>\n",
       "      <td>0</td>\n",
       "    </tr>\n",
       "    <tr>\n",
       "      <th>1</th>\n",
       "      <td>4.7 %</td>\n",
       "      <td>43</td>\n",
       "      <td>American Amber Ale</td>\n",
       "      <td>0</td>\n",
       "    </tr>\n",
       "    <tr>\n",
       "      <th>2</th>\n",
       "      <td>4.7 %</td>\n",
       "      <td>43</td>\n",
       "      <td>American Amber Ale</td>\n",
       "      <td>0</td>\n",
       "    </tr>\n",
       "    <tr>\n",
       "      <th>3</th>\n",
       "      <td>4.7 %</td>\n",
       "      <td>43</td>\n",
       "      <td>American Amber Ale</td>\n",
       "      <td>0</td>\n",
       "    </tr>\n",
       "    <tr>\n",
       "      <th>4</th>\n",
       "      <td>4.7 %</td>\n",
       "      <td>43</td>\n",
       "      <td>American Amber Ale</td>\n",
       "      <td>0</td>\n",
       "    </tr>\n",
       "    <tr>\n",
       "      <th>5</th>\n",
       "      <td>4.7 %</td>\n",
       "      <td>43</td>\n",
       "      <td>American Amber Ale</td>\n",
       "      <td>0</td>\n",
       "    </tr>\n",
       "    <tr>\n",
       "      <th>...</th>\n",
       "      <td>...</td>\n",
       "      <td>...</td>\n",
       "      <td>...</td>\n",
       "      <td>...</td>\n",
       "    </tr>\n",
       "    <tr>\n",
       "      <th>2061</th>\n",
       "      <td>5.4 %</td>\n",
       "      <td>50</td>\n",
       "      <td>Witbier</td>\n",
       "      <td>110</td>\n",
       "    </tr>\n",
       "    <tr>\n",
       "      <th>2062</th>\n",
       "      <td>6.2 %</td>\n",
       "      <td>58</td>\n",
       "      <td>Witbier</td>\n",
       "      <td>110</td>\n",
       "    </tr>\n",
       "    <tr>\n",
       "      <th>2063</th>\n",
       "      <td>4.7 %</td>\n",
       "      <td>43</td>\n",
       "      <td>Witbier</td>\n",
       "      <td>110</td>\n",
       "    </tr>\n",
       "    <tr>\n",
       "      <th>2064</th>\n",
       "      <td>0.0 %</td>\n",
       "      <td>4</td>\n",
       "      <td>Witbier</td>\n",
       "      <td>110</td>\n",
       "    </tr>\n",
       "    <tr>\n",
       "      <th>2065</th>\n",
       "      <td>4.7 %</td>\n",
       "      <td>43</td>\n",
       "      <td>Witbier</td>\n",
       "      <td>110</td>\n",
       "    </tr>\n",
       "    <tr>\n",
       "      <th>2066</th>\n",
       "      <td>4.7 %</td>\n",
       "      <td>43</td>\n",
       "      <td>Witbier</td>\n",
       "      <td>110</td>\n",
       "    </tr>\n",
       "  </tbody>\n",
       "</table>\n",
       "<p>2067 rows × 4 columns</p>\n",
       "</div>"
      ],
      "text/plain": [
       "        ABV  ABV_LE          BEER_STYLE  BEER_STYLE_LE\n",
       "0     4.7 %      43  American Amber Ale              0\n",
       "1     4.7 %      43  American Amber Ale              0\n",
       "2     4.7 %      43  American Amber Ale              0\n",
       "3     4.7 %      43  American Amber Ale              0\n",
       "4     4.7 %      43  American Amber Ale              0\n",
       "5     4.7 %      43  American Amber Ale              0\n",
       "...     ...     ...                 ...            ...\n",
       "2061  5.4 %      50             Witbier            110\n",
       "2062  6.2 %      58             Witbier            110\n",
       "2063  4.7 %      43             Witbier            110\n",
       "2064  0.0 %       4             Witbier            110\n",
       "2065  4.7 %      43             Witbier            110\n",
       "2066  4.7 %      43             Witbier            110\n",
       "\n",
       "[2067 rows x 4 columns]"
      ]
     },
     "execution_count": 31,
     "metadata": {},
     "output_type": "execute_result"
    }
   ],
   "source": [
    "recipe_df[['ABV', 'ABV_LE', 'BEER_STYLE', 'BEER_STYLE_LE']]"
   ]
  },
  {
   "cell_type": "code",
   "execution_count": 32,
   "metadata": {},
   "outputs": [
    {
     "data": {
      "text/plain": [
       "<bound method Series.keys of 0       {u'HOP': [{u'NAME': u'Target', u'VERSION': u'1...\n",
       "1       {u'HOP': [{u'NAME': u'Target', u'VERSION': u'1...\n",
       "2       {u'HOP': [{u'NAME': u'Target', u'VERSION': u'1...\n",
       "3       {u'HOP': [{u'NAME': u'Cascade', u'VERSION': u'...\n",
       "4       {u'HOP': [{u'NAME': u'Cascade', u'VERSION': u'...\n",
       "5       {u'HOP': [{u'NAME': u'Cascade', u'VERSION': u'...\n",
       "                              ...                        \n",
       "2061    {u'HOP': [{u'NAME': u'Hallertau Blanc', u'VERS...\n",
       "2062    {u'HOP': [{u'NAME': u'US Hallertau Pellets', u...\n",
       "2063    {u'HOP': {u'NAME': u'Sterling', u'VERSION': u'...\n",
       "2064    {u'HOP': {u'NAME': u'Sterling', u'VERSION': u'...\n",
       "2065    {u'HOP': [{u'NAME': u'Bravo', u'VERSION': u'1'...\n",
       "2066    {u'HOP': [{u'NAME': u'Hallertauer', u'VERSION'...\n",
       "Name: HOPS, Length: 2067, dtype: object>"
      ]
     },
     "execution_count": 32,
     "metadata": {},
     "output_type": "execute_result"
    }
   ],
   "source": [
    "recipe_df['HOPS'].keys"
   ]
  },
  {
   "cell_type": "code",
   "execution_count": 33,
   "metadata": {},
   "outputs": [
    {
     "data": {
      "text/plain": [
       "[OrderedDict([(u'NAME', u'Target'),\n",
       "              (u'VERSION', u'1'),\n",
       "              (u'ORIGIN', u'United Kingdom'),\n",
       "              (u'ALPHA', u'11.0000000'),\n",
       "              (u'AMOUNT', u'0.0283495'),\n",
       "              (u'USE', u'Boil'),\n",
       "              (u'TIME', u'60.0000000'),\n",
       "              (u'NOTES',\n",
       "               u'Used for: English ales and lagers\\nAroma: Robust aroma and flavor\\nSubstitutes: East Kent Goldings'),\n",
       "              (u'TYPE', u'Bittering'),\n",
       "              (u'FORM', u'Leaf'),\n",
       "              (u'BETA', u'5.0000000'),\n",
       "              (u'HSI', u'50.0000000'),\n",
       "              (u'DISPLAY_AMOUNT', u'1.00 oz'),\n",
       "              (u'INVENTORY', u'0.00 oz'),\n",
       "              (u'DISPLAY_TIME', u'60.0 min')]),\n",
       " OrderedDict([(u'NAME', u'Sterling'),\n",
       "              (u'VERSION', u'1'),\n",
       "              (u'ORIGIN', u'U.S.'),\n",
       "              (u'ALPHA', u'7.5000000'),\n",
       "              (u'AMOUNT', u'0.0566990'),\n",
       "              (u'USE', u'Boil'),\n",
       "              (u'TIME', u'0.0000000'),\n",
       "              (u'NOTES',\n",
       "               u'Flavor is a cross between Saaz and Mt Hood\\nUsed for: Lagers, Ales, Pilsners\\nAroma: Herbal, spicy, some floral and citrus hints\\nSubstitutes: Saaz, Polish Lublin'),\n",
       "              (u'TYPE', u'Both'),\n",
       "              (u'FORM', u'Leaf'),\n",
       "              (u'BETA', u'5.0000000'),\n",
       "              (u'HSI', u'30.0000000'),\n",
       "              (u'DISPLAY_AMOUNT', u'2.00 oz'),\n",
       "              (u'INVENTORY', u'0.00 oz'),\n",
       "              (u'DISPLAY_TIME', u'0.0 min')])]"
      ]
     },
     "execution_count": 33,
     "metadata": {},
     "output_type": "execute_result"
    }
   ],
   "source": [
    "#Will need to drop entries with no HOPS info\n",
    "#len(recipe_df['HOPS'][99]['HOP'])\n",
    "recipe_df['HOPS'][1]['HOP']"
   ]
  },
  {
   "cell_type": "code",
   "execution_count": 34,
   "metadata": {},
   "outputs": [],
   "source": [
    "# Seems to remove rows where HOPS columns are empty\n",
    "recipe_df2 = recipe_df[pd.notnull(recipe_df['HOPS'])]"
   ]
  },
  {
   "cell_type": "code",
   "execution_count": 35,
   "metadata": {},
   "outputs": [],
   "source": [
    "# Need to reset index?"
   ]
  },
  {
   "cell_type": "code",
   "execution_count": 36,
   "metadata": {},
   "outputs": [],
   "source": [
    "recipe_df2.reset_index(drop=True, inplace=True);"
   ]
  },
  {
   "cell_type": "code",
   "execution_count": 88,
   "metadata": {},
   "outputs": [
    {
     "data": {
      "text/plain": [
       "u'Target'"
      ]
     },
     "execution_count": 88,
     "metadata": {},
     "output_type": "execute_result"
    }
   ],
   "source": [
    "recipe_df2['HOPS'][0]['HOP'][0]['NAME']"
   ]
  },
  {
   "cell_type": "code",
   "execution_count": 38,
   "metadata": {},
   "outputs": [
    {
     "name": "stderr",
     "output_type": "stream",
     "text": [
      "/Users/cody/Library/Enthought/Canopy/edm/envs/User/lib/python2.7/site-packages/ipykernel/__main__.py:2: SettingWithCopyWarning: \n",
      "A value is trying to be set on a copy of a slice from a DataFrame.\n",
      "Try using .loc[row_indexer,col_indexer] = value instead\n",
      "\n",
      "See the caveats in the documentation: http://pandas.pydata.org/pandas-docs/stable/indexing.html#indexing-view-versus-copy\n",
      "  from ipykernel import kernelapp as app\n",
      "/Users/cody/Library/Enthought/Canopy/edm/envs/User/lib/python2.7/site-packages/ipykernel/__main__.py:6: SettingWithCopyWarning: \n",
      "A value is trying to be set on a copy of a slice from a DataFrame\n",
      "\n",
      "See the caveats in the documentation: http://pandas.pydata.org/pandas-docs/stable/indexing.html#indexing-view-versus-copy\n",
      "/Users/cody/Library/Enthought/Canopy/edm/envs/User/lib/python2.7/site-packages/IPython/core/interactiveshell.py:2881: SettingWithCopyWarning: \n",
      "A value is trying to be set on a copy of a slice from a DataFrame\n",
      "\n",
      "See the caveats in the documentation: http://pandas.pydata.org/pandas-docs/stable/indexing.html#indexing-view-versus-copy\n",
      "  exec(code_obj, self.user_global_ns, self.user_ns)\n"
     ]
    }
   ],
   "source": [
    "# Dropped problematic HOPS with nans and reset index\n",
    "recipe_df2['HOPS_LEN'] = 0\n",
    "for i in range(20):\n",
    "#for i in range(len(recipe_df2)):\n",
    "    for j in range(len(recipe_df2['HOPS'][i]['HOP'])):\n",
    "        recipe_df2['HOPS_LEN'][i] = len(recipe_df2['HOPS'][j]['HOP'])"
   ]
  },
  {
   "cell_type": "code",
   "execution_count": 79,
   "metadata": {},
   "outputs": [
    {
     "data": {
      "text/plain": [
       "2"
      ]
     },
     "execution_count": 79,
     "metadata": {},
     "output_type": "execute_result"
    }
   ],
   "source": [
    "recipe_df2['HOPS_LEN'][0]"
   ]
  },
  {
   "cell_type": "code",
   "execution_count": 195,
   "metadata": {},
   "outputs": [],
   "source": [
    "ph = {}\n",
    "#for i in range(len(recipe_df2['HOPS'][0]['HOP'])):\n",
    "for i in range(20):\n",
    "    for j in range(recipe_df2['HOPS_LEN'][i]):\n",
    "        ph[i,j] = recipe_df2['HOPS'][i]['HOP'][j]['NAME']"
   ]
  },
  {
   "cell_type": "code",
   "execution_count": null,
   "metadata": {},
   "outputs": [],
   "source": []
  },
  {
   "cell_type": "code",
   "execution_count": 189,
   "metadata": {},
   "outputs": [],
   "source": [
    "test2 = sorted(ph.items())"
   ]
  },
  {
   "cell_type": "code",
   "execution_count": 190,
   "metadata": {},
   "outputs": [],
   "source": [
    "testdf = pd.DataFrame(test2)"
   ]
  },
  {
   "cell_type": "code",
   "execution_count": 211,
   "metadata": {},
   "outputs": [
    {
     "data": {
      "text/html": [
       "<div>\n",
       "<style>\n",
       "    .dataframe thead tr:only-child th {\n",
       "        text-align: right;\n",
       "    }\n",
       "\n",
       "    .dataframe thead th {\n",
       "        text-align: left;\n",
       "    }\n",
       "\n",
       "    .dataframe tbody tr th {\n",
       "        vertical-align: top;\n",
       "    }\n",
       "</style>\n",
       "<table border=\"1\" class=\"dataframe\">\n",
       "  <thead>\n",
       "    <tr style=\"text-align: right;\">\n",
       "      <th></th>\n",
       "      <th>0</th>\n",
       "      <th>1</th>\n",
       "    </tr>\n",
       "  </thead>\n",
       "  <tbody>\n",
       "    <tr>\n",
       "      <th>0</th>\n",
       "      <td>(0, 0)</td>\n",
       "      <td>Target</td>\n",
       "    </tr>\n",
       "    <tr>\n",
       "      <th>1</th>\n",
       "      <td>(0, 1)</td>\n",
       "      <td>Sterling</td>\n",
       "    </tr>\n",
       "    <tr>\n",
       "      <th>2</th>\n",
       "      <td>(1, 0)</td>\n",
       "      <td>Target</td>\n",
       "    </tr>\n",
       "    <tr>\n",
       "      <th>3</th>\n",
       "      <td>(1, 1)</td>\n",
       "      <td>Sterling</td>\n",
       "    </tr>\n",
       "    <tr>\n",
       "      <th>4</th>\n",
       "      <td>(2, 0)</td>\n",
       "      <td>Target</td>\n",
       "    </tr>\n",
       "    <tr>\n",
       "      <th>5</th>\n",
       "      <td>(2, 1)</td>\n",
       "      <td>Sterling</td>\n",
       "    </tr>\n",
       "    <tr>\n",
       "      <th>...</th>\n",
       "      <td>...</td>\n",
       "      <td>...</td>\n",
       "    </tr>\n",
       "    <tr>\n",
       "      <th>36</th>\n",
       "      <td>(18, 0)</td>\n",
       "      <td>Chinook</td>\n",
       "    </tr>\n",
       "    <tr>\n",
       "      <th>37</th>\n",
       "      <td>(18, 1)</td>\n",
       "      <td>Cascade</td>\n",
       "    </tr>\n",
       "    <tr>\n",
       "      <th>38</th>\n",
       "      <td>(18, 2)</td>\n",
       "      <td>Centennial</td>\n",
       "    </tr>\n",
       "    <tr>\n",
       "      <th>39</th>\n",
       "      <td>(19, 0)</td>\n",
       "      <td>Chinook</td>\n",
       "    </tr>\n",
       "    <tr>\n",
       "      <th>40</th>\n",
       "      <td>(19, 1)</td>\n",
       "      <td>Cascade</td>\n",
       "    </tr>\n",
       "    <tr>\n",
       "      <th>41</th>\n",
       "      <td>(19, 2)</td>\n",
       "      <td>Centennial</td>\n",
       "    </tr>\n",
       "  </tbody>\n",
       "</table>\n",
       "<p>42 rows × 2 columns</p>\n",
       "</div>"
      ],
      "text/plain": [
       "          0           1\n",
       "0    (0, 0)      Target\n",
       "1    (0, 1)    Sterling\n",
       "2    (1, 0)      Target\n",
       "3    (1, 1)    Sterling\n",
       "4    (2, 0)      Target\n",
       "5    (2, 1)    Sterling\n",
       "..      ...         ...\n",
       "36  (18, 0)     Chinook\n",
       "37  (18, 1)     Cascade\n",
       "38  (18, 2)  Centennial\n",
       "39  (19, 0)     Chinook\n",
       "40  (19, 1)     Cascade\n",
       "41  (19, 2)  Centennial\n",
       "\n",
       "[42 rows x 2 columns]"
      ]
     },
     "execution_count": 211,
     "metadata": {},
     "output_type": "execute_result"
    }
   ],
   "source": [
    "testdf"
   ]
  },
  {
   "cell_type": "code",
   "execution_count": null,
   "metadata": {},
   "outputs": [],
   "source": []
  },
  {
   "cell_type": "code",
   "execution_count": 32,
   "metadata": {},
   "outputs": [
    {
     "name": "stderr",
     "output_type": "stream",
     "text": [
      "/Users/cody/Library/Enthought/Canopy/edm/envs/User/lib/python2.7/site-packages/ipykernel/__main__.py:6: SettingWithCopyWarning: \n",
      "A value is trying to be set on a copy of a slice from a DataFrame\n",
      "\n",
      "See the caveats in the documentation: http://pandas.pydata.org/pandas-docs/stable/indexing.html#indexing-view-versus-copy\n"
     ]
    }
   ],
   "source": [
    "# The for loop version of converting IBUs to numbers\n",
    "recipe_df['IBU_fl'] = 0\n",
    "#for i in range(10):\n",
    "for i in range(len(recipe_df['IBU'])):\n",
    "    ph = recipe_df['IBU'][i]\n",
    "    recipe_df['IBU_fl'][i] = filter(lambda x: x.isdigit(), ph)\n",
    "recipe_df['IBU_fl'] = recipe_df['IBU_fl']/10"
   ]
  },
  {
   "cell_type": "code",
   "execution_count": 33,
   "metadata": {},
   "outputs": [
    {
     "data": {
      "text/plain": [
       "0       33.8\n",
       "1       33.8\n",
       "2       33.8\n",
       "3       20.8\n",
       "4       20.8\n",
       "5       20.8\n",
       "        ... \n",
       "2061     0.0\n",
       "2062     0.0\n",
       "2063     0.0\n",
       "2064     0.0\n",
       "2065     0.0\n",
       "2066     0.0\n",
       "Name: IBU_fl, Length: 2067, dtype: float64"
      ]
     },
     "execution_count": 33,
     "metadata": {},
     "output_type": "execute_result"
    }
   ],
   "source": [
    "recipe_df['IBU_fl']"
   ]
  },
  {
   "cell_type": "code",
   "execution_count": 84,
   "metadata": {},
   "outputs": [
    {
     "name": "stderr",
     "output_type": "stream",
     "text": [
      "/Users/cody/Library/Enthought/Canopy/edm/envs/User/lib/python2.7/site-packages/ipykernel/__main__.py:4: SettingWithCopyWarning: \n",
      "A value is trying to be set on a copy of a slice from a DataFrame.\n",
      "Try using .loc[row_indexer,col_indexer] = value instead\n",
      "\n",
      "See the caveats in the documentation: http://pandas.pydata.org/pandas-docs/stable/indexing.html#indexing-view-versus-copy\n",
      "/Users/cody/Library/Enthought/Canopy/edm/envs/User/lib/python2.7/site-packages/ipykernel/__main__.py:6: SettingWithCopyWarning: \n",
      "A value is trying to be set on a copy of a slice from a DataFrame\n",
      "\n",
      "See the caveats in the documentation: http://pandas.pydata.org/pandas-docs/stable/indexing.html#indexing-view-versus-copy\n"
     ]
    },
    {
     "data": {
      "text/plain": [
       "0       Safale American\n",
       "1       Safale American\n",
       "2       Safale American\n",
       "3       Safale American\n",
       "4       Safale American\n",
       "5       Safale American\n",
       "             ...       \n",
       "1932                  0\n",
       "1933                  0\n",
       "1934                  0\n",
       "1935                  0\n",
       "1936                  0\n",
       "1937                  0\n",
       "Name: YEASTS_str, Length: 1938, dtype: object"
      ]
     },
     "execution_count": 84,
     "metadata": {},
     "output_type": "execute_result"
    }
   ],
   "source": [
    "recipe_df3 = recipe_df[pd.notnull(recipe_df['YEASTS'])]\n",
    "recipe_df3.reset_index(drop=True, inplace=True);\n",
    "recipe_df3['YEASTS_str'] = 0\n",
    "for i in range(30):\n",
    "#for i in range(len(recipe_df3['YEASTS'])):\n",
    "    recipe_df3['YEASTS_str'][i] = recipe_df3['YEASTS'][i]['YEAST']['NAME']\n",
    "recipe_df3['YEASTS_str']"
   ]
  },
  {
   "cell_type": "code",
   "execution_count": 85,
   "metadata": {},
   "outputs": [
    {
     "data": {
      "text/plain": [
       "0           Safale American\n",
       "1           Safale American\n",
       "2           Safale American\n",
       "3           Safale American\n",
       "4           Safale American\n",
       "5           Safale American\n",
       "              ...          \n",
       "24            Edinburgh Ale\n",
       "25            Edinburgh Ale\n",
       "26            Edinburgh Ale\n",
       "27    San Diego Super Yeast\n",
       "28    San Diego Super Yeast\n",
       "29    San Diego Super Yeast\n",
       "Name: YEASTS_str, Length: 30, dtype: object"
      ]
     },
     "execution_count": 85,
     "metadata": {},
     "output_type": "execute_result"
    }
   ],
   "source": [
    "recipe_df3['YEASTS_str'][0:30]"
   ]
  },
  {
   "cell_type": "code",
   "execution_count": 86,
   "metadata": {},
   "outputs": [
    {
     "name": "stderr",
     "output_type": "stream",
     "text": [
      "/Users/cody/Library/Enthought/Canopy/edm/envs/User/lib/python2.7/site-packages/ipykernel/__main__.py:6: SettingWithCopyWarning: \n",
      "A value is trying to be set on a copy of a slice from a DataFrame\n",
      "\n",
      "See the caveats in the documentation: http://pandas.pydata.org/pandas-docs/stable/indexing.html#indexing-view-versus-copy\n"
     ]
    }
   ],
   "source": [
    "# The for loop version of converting ABVs to numbers (drops the %)  MUCH less efficient than LE, but more interpretable\n",
    "recipe_df['ABV_fl'] = 0\n",
    "for i in range(10):\n",
    "#for i in range(len(recipe_df['IBU'])):\n",
    "    ph = recipe_df['ABV'][i]\n",
    "    recipe_df['ABV_fl'][i] = filter(lambda x: x.isdigit(), ph)\n",
    "recipe_df['ABV_fl'] = recipe_df['ABV_fl']/10"
   ]
  },
  {
   "cell_type": "code",
   "execution_count": 87,
   "metadata": {},
   "outputs": [
    {
     "data": {
      "text/plain": [
       "0       4.7\n",
       "1       4.7\n",
       "2       4.7\n",
       "3       4.7\n",
       "4       4.7\n",
       "5       4.7\n",
       "       ... \n",
       "2061    0.0\n",
       "2062    0.0\n",
       "2063    0.0\n",
       "2064    0.0\n",
       "2065    0.0\n",
       "2066    0.0\n",
       "Name: ABV_fl, Length: 2067, dtype: float64"
      ]
     },
     "execution_count": 87,
     "metadata": {},
     "output_type": "execute_result"
    }
   ],
   "source": [
    "recipe_df['ABV_fl']"
   ]
  },
  {
   "cell_type": "code",
   "execution_count": null,
   "metadata": {},
   "outputs": [],
   "source": []
  },
  {
   "cell_type": "code",
   "execution_count": null,
   "metadata": {},
   "outputs": [],
   "source": []
  }
 ],
 "metadata": {
  "kernelspec": {
   "display_name": "Python 3",
   "language": "python",
   "name": "python3"
  },
  "language_info": {
   "codemirror_mode": {
    "name": "ipython",
    "version": 3
   },
   "file_extension": ".py",
   "mimetype": "text/x-python",
   "name": "python",
   "nbconvert_exporter": "python",
   "pygments_lexer": "ipython3",
   "version": "3.7.6"
  }
 },
 "nbformat": 4,
 "nbformat_minor": 2
}
